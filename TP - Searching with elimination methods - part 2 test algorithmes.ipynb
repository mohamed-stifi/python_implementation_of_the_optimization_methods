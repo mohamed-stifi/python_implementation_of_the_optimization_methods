{
 "cells": [
  {
   "cell_type": "code",
   "execution_count": 7,
   "id": "7277c21b",
   "metadata": {},
   "outputs": [],
   "source": [
    "import numpy as np\n",
    "import math\n",
    "import pandas as pd \n",
    "import matplotlib.pyplot as plt\n",
    "%matplotlib inline"
   ]
  },
  {
   "cell_type": "code",
   "execution_count": 8,
   "id": "86a5e740",
   "metadata": {},
   "outputs": [],
   "source": [
    "def f(x):\n",
    "    return x*(x-1.5)"
   ]
  },
  {
   "cell_type": "code",
   "execution_count": 55,
   "id": "a267c8a2",
   "metadata": {},
   "outputs": [
    {
     "data": {
      "image/png": "[encoded data removed]",
      "text/plain": [
       "<Figure size 640x480 with 1 Axes>"
      ]
     },
     "metadata": {},
     "output_type": "display_data"
    }
   ],
   "source": [
    "X = np.linspace(0, 1.1, 100)\n",
    "Y = f(X)\n",
    "c = [f(3/4)]*len(X)\n",
    "plt.plot(X,Y, label = '$f(x) = x(x-1.5)$')\n",
    "plt.plot(X,c, label = '$y = min_{x\\in [0,1]} f(x)$')\n",
    "plt.legend()\n",
    "plt.show()"
   ]
  },
  {
   "cell_type": "markdown",
   "id": "18c15d8a",
   "metadata": {},
   "source": [
    "# Searcch with fixed step size"
   ]
  },
  {
   "cell_type": "code",
   "execution_count": 103,
   "id": "4ed4bf65",
   "metadata": {},
   "outputs": [],
   "source": [
    "def S_W_F_S_S(f, x_init = 0 ,step = 0.05):\n",
    "    i = 1\n",
    "    data ={\n",
    "        'c' : ['r'],\n",
    "        'x_i' : ['$x_{'+str(i) +'}$'],\n",
    "        'x':[x_init],\n",
    "        'f(x)' : [f(x_init)]\n",
    "    }\n",
    "    f_2 = f(x_init+step)\n",
    "    if f_2 < data['f(x)'][-1] :\n",
    "        x_init = x_init + step\n",
    "        i = i+1\n",
    "        data['c'].append('r')\n",
    "        data['x_i'].append('$x_{'+str(i) +'}$')\n",
    "        data['x'].append(x_init)\n",
    "        data['f(x)'].append(f(x_init))\n",
    "        while True :\n",
    "            f_ = f(x_init+step)\n",
    "            if f_ < data['f(x)'][-1] :\n",
    "                x_init = x_init + step\n",
    "                i = i+1\n",
    "                data['c'].append('r')\n",
    "                data['x_i'].append('$x_{'+str(i) +'}$')\n",
    "                data['x'].append(x_init)\n",
    "                data['f(x)'].append(f(x_init))\n",
    "            else :\n",
    "                x_init = x_init + step\n",
    "                i = i+1\n",
    "                data['c'][-2] = 'b'\n",
    "                data['c'].append('b')\n",
    "                data['x_i'].append('$x_{'+str(i) +'}$')\n",
    "                data['x'].append(x_init)\n",
    "                data['f(x)'].append(f(x_init))\n",
    "                return (x_init - 2*step, x_init), data\n",
    "    elif data['f(x)'][-1] < f_2 :\n",
    "        x_init = x_init - step\n",
    "        i = i+1\n",
    "        data['c'].append('r')\n",
    "        data['x_i'].append('$x_{'+str(i) +'}$')\n",
    "        data['x'].append(x_init)\n",
    "        data['f(x)'].append(f(x_init))\n",
    "        while True :\n",
    "            f_ = f(x_init-step)\n",
    "            if data['f(x)'][-1] > f_ :\n",
    "                x_init = x_init - step\n",
    "                i = i+1\n",
    "                data['c'].append('r')\n",
    "                data['x_i'].append('$x_{'+str(i) +'}$')\n",
    "                data['x'].append(x_init)\n",
    "                data['f(x)'].append(f(x_init))\n",
    "            else :\n",
    "                x_init = x_init - step\n",
    "                i = i+1\n",
    "                data['c'][-2] = 'b'\n",
    "                data['c'].append('b')\n",
    "                data['x_i'].append('$x_{'+str(i) +'}$')\n",
    "                data['x'].append(x_init)\n",
    "                data['f(x)'].append(f(x_init))\n",
    "                return ( x_init, x_init + 2*step), data\n",
    "    else :\n",
    "        return (x_init - step,x_init + step), 0\n",
    "            \n",
    "    "
   ]
  },
  {
   "cell_type": "code",
   "execution_count": 104,
   "id": "40f386a7",
   "metadata": {},
   "outputs": [],
   "source": [
    "intirval_of_min , data = S_W_F_S_S(f, 0, 0.05)"
   ]
  },
  {
   "cell_type": "code",
   "execution_count": 106,
   "id": "76c81a8e",
   "metadata": {},
   "outputs": [
    {
     "data": {
      "text/html": [
       "<div>\n",
       "<style scoped>\n",
       "    .dataframe tbody tr th:only-of-type {\n",
       "        vertical-align: middle;\n",
       "    }\n",
       "\n",
       "    .dataframe tbody tr th {\n",
       "        vertical-align: top;\n",
       "    }\n",
       "\n",
       "    .dataframe thead th {\n",
       "        text-align: right;\n",
       "    }\n",
       "</style>\n",
       "<table border=\"1\" class=\"dataframe\">\n",
       "  <thead>\n",
       "    <tr style=\"text-align: right;\">\n",
       "      <th></th>\n",
       "      <th>c</th>\n",
       "      <th>x_i</th>\n",
       "      <th>x</th>\n",
       "      <th>f(x)</th>\n",
       "    </tr>\n",
       "  </thead>\n",
       "  <tbody>\n",
       "    <tr>\n",
       "      <th>0</th>\n",
       "      <td>r</td>\n",
       "      <td>$x_{1}$</td>\n",
       "      <td>0.00</td>\n",
       "      <td>-0.0000</td>\n",
       "    </tr>\n",
       "    <tr>\n",
       "      <th>1</th>\n",
       "      <td>r</td>\n",
       "      <td>$x_{2}$</td>\n",
       "      <td>0.05</td>\n",
       "      <td>-0.0725</td>\n",
       "    </tr>\n",
       "    <tr>\n",
       "      <th>2</th>\n",
       "      <td>r</td>\n",
       "      <td>$x_{3}$</td>\n",
       "      <td>0.10</td>\n",
       "      <td>-0.1400</td>\n",
       "    </tr>\n",
       "    <tr>\n",
       "      <th>3</th>\n",
       "      <td>r</td>\n",
       "      <td>$x_{4}$</td>\n",
       "      <td>0.15</td>\n",
       "      <td>-0.2025</td>\n",
       "    </tr>\n",
       "    <tr>\n",
       "      <th>4</th>\n",
       "      <td>r</td>\n",
       "      <td>$x_{5}$</td>\n",
       "      <td>0.20</td>\n",
       "      <td>-0.2600</td>\n",
       "    </tr>\n",
       "    <tr>\n",
       "      <th>5</th>\n",
       "      <td>r</td>\n",
       "      <td>$x_{6}$</td>\n",
       "      <td>0.25</td>\n",
       "      <td>-0.3125</td>\n",
       "    </tr>\n",
       "    <tr>\n",
       "      <th>6</th>\n",
       "      <td>r</td>\n",
       "      <td>$x_{7}$</td>\n",
       "      <td>0.30</td>\n",
       "      <td>-0.3600</td>\n",
       "    </tr>\n",
       "    <tr>\n",
       "      <th>7</th>\n",
       "      <td>r</td>\n",
       "      <td>$x_{8}$</td>\n",
       "      <td>0.35</td>\n",
       "      <td>-0.4025</td>\n",
       "    </tr>\n",
       "    <tr>\n",
       "      <th>8</th>\n",
       "      <td>r</td>\n",
       "      <td>$x_{9}$</td>\n",
       "      <td>0.40</td>\n",
       "      <td>-0.4400</td>\n",
       "    </tr>\n",
       "    <tr>\n",
       "      <th>9</th>\n",
       "      <td>r</td>\n",
       "      <td>$x_{10}$</td>\n",
       "      <td>0.45</td>\n",
       "      <td>-0.4725</td>\n",
       "    </tr>\n",
       "    <tr>\n",
       "      <th>10</th>\n",
       "      <td>r</td>\n",
       "      <td>$x_{11}$</td>\n",
       "      <td>0.50</td>\n",
       "      <td>-0.5000</td>\n",
       "    </tr>\n",
       "    <tr>\n",
       "      <th>11</th>\n",
       "      <td>r</td>\n",
       "      <td>$x_{12}$</td>\n",
       "      <td>0.55</td>\n",
       "      <td>-0.5225</td>\n",
       "    </tr>\n",
       "    <tr>\n",
       "      <th>12</th>\n",
       "      <td>r</td>\n",
       "      <td>$x_{13}$</td>\n",
       "      <td>0.60</td>\n",
       "      <td>-0.5400</td>\n",
       "    </tr>\n",
       "    <tr>\n",
       "      <th>13</th>\n",
       "      <td>r</td>\n",
       "      <td>$x_{14}$</td>\n",
       "      <td>0.65</td>\n",
       "      <td>-0.5525</td>\n",
       "    </tr>\n",
       "    <tr>\n",
       "      <th>14</th>\n",
       "      <td>b</td>\n",
       "      <td>$x_{15}$</td>\n",
       "      <td>0.70</td>\n",
       "      <td>-0.5600</td>\n",
       "    </tr>\n",
       "    <tr>\n",
       "      <th>15</th>\n",
       "      <td>r</td>\n",
       "      <td>$x_{16}$</td>\n",
       "      <td>0.75</td>\n",
       "      <td>-0.5625</td>\n",
       "    </tr>\n",
       "    <tr>\n",
       "      <th>16</th>\n",
       "      <td>b</td>\n",
       "      <td>$x_{17}$</td>\n",
       "      <td>0.80</td>\n",
       "      <td>-0.5600</td>\n",
       "    </tr>\n",
       "  </tbody>\n",
       "</table>\n",
       "</div>"
      ],
      "text/plain": [
       "    c       x_i     x    f(x)\n",
       "0   r   $x_{1}$  0.00 -0.0000\n",
       "1   r   $x_{2}$  0.05 -0.0725\n",
       "2   r   $x_{3}$  0.10 -0.1400\n",
       "3   r   $x_{4}$  0.15 -0.2025\n",
       "4   r   $x_{5}$  0.20 -0.2600\n",
       "5   r   $x_{6}$  0.25 -0.3125\n",
       "6   r   $x_{7}$  0.30 -0.3600\n",
       "7   r   $x_{8}$  0.35 -0.4025\n",
       "8   r   $x_{9}$  0.40 -0.4400\n",
       "9   r  $x_{10}$  0.45 -0.4725\n",
       "10  r  $x_{11}$  0.50 -0.5000\n",
       "11  r  $x_{12}$  0.55 -0.5225\n",
       "12  r  $x_{13}$  0.60 -0.5400\n",
       "13  r  $x_{14}$  0.65 -0.5525\n",
       "14  b  $x_{15}$  0.70 -0.5600\n",
       "15  r  $x_{16}$  0.75 -0.5625\n",
       "16  b  $x_{17}$  0.80 -0.5600"
      ]
     },
     "execution_count": 106,
     "metadata": {},
     "output_type": "execute_result"
    }
   ],
   "source": [
    "pd.DataFrame(data)"
   ]
  },
  {
   "cell_type": "code",
   "execution_count": 107,
   "id": "c3274331",
   "metadata": {},
   "outputs": [
    {
     "data": {
      "image/png": "[encoded data removed]",
      "text/plain": [
       "<Figure size 640x480 with 1 Axes>"
      ]
     },
     "metadata": {},
     "output_type": "display_data"
    }
   ],
   "source": [
    "plt.scatter(data['x'],data['f(x)'],c = data['c'])\n",
    "plt.show()"
   ]
  },
  {
   "cell_type": "code",
   "execution_count": 108,
   "id": "b4ce23be",
   "metadata": {},
   "outputs": [
    {
     "data": {
      "text/plain": [
       "(0.7000000000000002, 0.8000000000000002)"
      ]
     },
     "execution_count": 108,
     "metadata": {},
     "output_type": "execute_result"
    }
   ],
   "source": [
    "intirval_of_min"
   ]
  },
  {
   "cell_type": "markdown",
   "id": "304ca9fb",
   "metadata": {},
   "source": [
    "# Search with accelerated step size"
   ]
  },
  {
   "cell_type": "code",
   "execution_count": 164,
   "id": "bebe4b0d",
   "metadata": {},
   "outputs": [],
   "source": [
    "def S_W_A_S_S(f, x_init = 0, step = 0.001):\n",
    "    i = 1\n",
    "    data ={\n",
    "        'c' : ['r'],\n",
    "        'step value' : ['-'],\n",
    "        'x_i' : ['$x_{'+str(i) +'}$'],\n",
    "        'x':[x_init],\n",
    "        'f(x)' : [f(x_init)]\n",
    "    }\n",
    "    f_2 = f(x_init+step)\n",
    "    \n",
    "    if f_2 < data['f(x)'][-1] :\n",
    "        x_init = x_init + step\n",
    "        i = i+1\n",
    "        data['step value'].append(step)\n",
    "        data['c'].append('r')\n",
    "        data['x_i'].append('$x_{'+str(i) +'}$')\n",
    "        data['x'].append(x_init)\n",
    "        data['f(x)'].append(f(x_init))\n",
    "        while True :\n",
    "            f_ = f(x_init+step)\n",
    "            if f_ < data['f(x)'][-1] :\n",
    "                x_init = x_init + step\n",
    "                i = i+1\n",
    "                step = 2*step\n",
    "                data['step value'].append(step)\n",
    "                data['c'].append('r')\n",
    "                data['x_i'].append('$x_{'+str(i) +'}$')\n",
    "                data['x'].append(x_init)\n",
    "                data['f(x)'].append(f(x_init))\n",
    "            else :\n",
    "                x_init = x_init + step\n",
    "                i = i+1\n",
    "                step = 2*step\n",
    "                data['step value'].append(step)\n",
    "                data['c'][-2] = 'b'\n",
    "                data['c'].append('b')\n",
    "                data['x_i'].append('$x_{'+str(i) +'}$')\n",
    "                data['x'].append(x_init)\n",
    "                data['f(x)'].append(f(x_init))\n",
    "                return (x_init - step/4 -step/2, x_init), data\n",
    "    elif data['f(x)'][-1] < f_2 :\n",
    "        x_init = x_init - step\n",
    "        i = i+1\n",
    "        data['step value'].append(step)\n",
    "        data['c'].append('r')\n",
    "        data['x_i'].append('$x_{'+str(i) +'}$')\n",
    "        data['x'].append(x_init)\n",
    "        data['f(x)'].append(f(x_init))\n",
    "        while True :\n",
    "            f_ = f(x_init-step)\n",
    "            if data['f(x)'][-1] > f_ :\n",
    "                x_init = x_init - step\n",
    "                i = i+1\n",
    "                step = 2*step\n",
    "                data['step value'].append(step)\n",
    "                data['c'].append('r')\n",
    "                data['x_i'].append('$x_{'+str(i) +'}$')\n",
    "                data['x'].append(x_init)\n",
    "                data['f(x)'].append(f(x_init))\n",
    "            else :\n",
    "                x_init = x_init - step\n",
    "                i = i+1\n",
    "                #step = 2*step\n",
    "                data['step value'].append(2*step)\n",
    "                data['c'][-2] = 'b'\n",
    "                data['c'].append('b')\n",
    "                data['x_i'].append('$x_{'+str(i) +'}$')\n",
    "                data['x'].append(x_init)\n",
    "                data['f(x)'].append(f(x_init))\n",
    "                return ( x_init, x_init + 3/2*step), data\n",
    "    else :\n",
    "        return (x_init - step,x_init + step), 0"
   ]
  },
  {
   "cell_type": "code",
   "execution_count": 178,
   "id": "4f04d80a",
   "metadata": {},
   "outputs": [],
   "source": [
    "intirval_of_min , data = S_W_A_S_S(f, 1, 0.02)"
   ]
  },
  {
   "cell_type": "code",
   "execution_count": 166,
   "id": "f7288fd1",
   "metadata": {},
   "outputs": [
    {
     "data": {
      "text/html": [
       "<div>\n",
       "<style scoped>\n",
       "    .dataframe tbody tr th:only-of-type {\n",
       "        vertical-align: middle;\n",
       "    }\n",
       "\n",
       "    .dataframe tbody tr th {\n",
       "        vertical-align: top;\n",
       "    }\n",
       "\n",
       "    .dataframe thead th {\n",
       "        text-align: right;\n",
       "    }\n",
       "</style>\n",
       "<table border=\"1\" class=\"dataframe\">\n",
       "  <thead>\n",
       "    <tr style=\"text-align: right;\">\n",
       "      <th></th>\n",
       "      <th>c</th>\n",
       "      <th>step value</th>\n",
       "      <th>x_i</th>\n",
       "      <th>x</th>\n",
       "      <th>f(x)</th>\n",
       "    </tr>\n",
       "  </thead>\n",
       "  <tbody>\n",
       "    <tr>\n",
       "      <th>0</th>\n",
       "      <td>r</td>\n",
       "      <td>-</td>\n",
       "      <td>$x_{1}$</td>\n",
       "      <td>1.00</td>\n",
       "      <td>-0.5000</td>\n",
       "    </tr>\n",
       "    <tr>\n",
       "      <th>1</th>\n",
       "      <td>r</td>\n",
       "      <td>0.02</td>\n",
       "      <td>$x_{2}$</td>\n",
       "      <td>0.98</td>\n",
       "      <td>-0.5096</td>\n",
       "    </tr>\n",
       "    <tr>\n",
       "      <th>2</th>\n",
       "      <td>r</td>\n",
       "      <td>0.04</td>\n",
       "      <td>$x_{3}$</td>\n",
       "      <td>0.96</td>\n",
       "      <td>-0.5184</td>\n",
       "    </tr>\n",
       "    <tr>\n",
       "      <th>3</th>\n",
       "      <td>r</td>\n",
       "      <td>0.08</td>\n",
       "      <td>$x_{4}$</td>\n",
       "      <td>0.92</td>\n",
       "      <td>-0.5336</td>\n",
       "    </tr>\n",
       "    <tr>\n",
       "      <th>4</th>\n",
       "      <td>b</td>\n",
       "      <td>0.16</td>\n",
       "      <td>$x_{5}$</td>\n",
       "      <td>0.84</td>\n",
       "      <td>-0.5544</td>\n",
       "    </tr>\n",
       "    <tr>\n",
       "      <th>5</th>\n",
       "      <td>r</td>\n",
       "      <td>0.32</td>\n",
       "      <td>$x_{6}$</td>\n",
       "      <td>0.68</td>\n",
       "      <td>-0.5576</td>\n",
       "    </tr>\n",
       "    <tr>\n",
       "      <th>6</th>\n",
       "      <td>b</td>\n",
       "      <td>0.64</td>\n",
       "      <td>$x_{7}$</td>\n",
       "      <td>0.36</td>\n",
       "      <td>-0.4104</td>\n",
       "    </tr>\n",
       "  </tbody>\n",
       "</table>\n",
       "</div>"
      ],
      "text/plain": [
       "   c step value      x_i     x    f(x)\n",
       "0  r          -  $x_{1}$  1.00 -0.5000\n",
       "1  r       0.02  $x_{2}$  0.98 -0.5096\n",
       "2  r       0.04  $x_{3}$  0.96 -0.5184\n",
       "3  r       0.08  $x_{4}$  0.92 -0.5336\n",
       "4  b       0.16  $x_{5}$  0.84 -0.5544\n",
       "5  r       0.32  $x_{6}$  0.68 -0.5576\n",
       "6  b       0.64  $x_{7}$  0.36 -0.4104"
      ]
     },
     "execution_count": 166,
     "metadata": {},
     "output_type": "execute_result"
    }
   ],
   "source": [
    "pd.DataFrame(data)"
   ]
  },
  {
   "cell_type": "code",
   "execution_count": 167,
   "id": "320a3a93",
   "metadata": {},
   "outputs": [
    {
     "data": {
      "image/png": "[encoded data removed]",
      "text/plain": [
       "<Figure size 640x480 with 1 Axes>"
      ]
     },
     "metadata": {},
     "output_type": "display_data"
    }
   ],
   "source": [
    "plt.scatter(data['x'],data['f(x)'],c = data['c'])\n",
    "plt.show()"
   ]
  },
  {
   "cell_type": "code",
   "execution_count": 168,
   "id": "957f05b6",
   "metadata": {},
   "outputs": [
    {
     "data": {
      "text/plain": [
       "(0.35999999999999993, 0.8399999999999999)"
      ]
     },
     "execution_count": 168,
     "metadata": {},
     "output_type": "execute_result"
    }
   ],
   "source": [
    "intirval_of_min"
   ]
  },
  {
   "cell_type": "markdown",
   "id": "35e58c46",
   "metadata": {},
   "source": [
    "# Exhaustive search method"
   ]
  },
  {
   "cell_type": "code",
   "execution_count": 21,
   "id": "a8f51376",
   "metadata": {},
   "outputs": [],
   "source": [
    "def E_S_M(f, x_init, x_final, n = 10):\n",
    "    intirval_of_min , data = S_W_F_S_S(f, x_init  ,step = (x_final - x_init)/(n+1))\n",
    "    intirval_of_min = list(intirval_of_min)\n",
    "    intirval_of_min[1] = intirval_of_min[1] - (x_final - x_init)/(n+1)\n",
    "    return tuple(intirval_of_min), data"
   ]
  },
  {
   "cell_type": "code",
   "execution_count": 22,
   "id": "8e520adf",
   "metadata": {},
   "outputs": [],
   "source": [
    "intirval_of_min , data = E_S_M(f,0.0, 1.0, 9)"
   ]
  },
  {
   "cell_type": "code",
   "execution_count": 23,
   "id": "5630d415",
   "metadata": {},
   "outputs": [
    {
     "data": {
      "text/html": [
       "<div>\n",
       "<style scoped>\n",
       "    .dataframe tbody tr th:only-of-type {\n",
       "        vertical-align: middle;\n",
       "    }\n",
       "\n",
       "    .dataframe tbody tr th {\n",
       "        vertical-align: top;\n",
       "    }\n",
       "\n",
       "    .dataframe thead th {\n",
       "        text-align: right;\n",
       "    }\n",
       "</style>\n",
       "<table border=\"1\" class=\"dataframe\">\n",
       "  <thead>\n",
       "    <tr style=\"text-align: right;\">\n",
       "      <th></th>\n",
       "      <th>c</th>\n",
       "      <th>x_i</th>\n",
       "      <th>x</th>\n",
       "      <th>f(x)</th>\n",
       "    </tr>\n",
       "  </thead>\n",
       "  <tbody>\n",
       "    <tr>\n",
       "      <th>0</th>\n",
       "      <td>r</td>\n",
       "      <td>$x_{1}$</td>\n",
       "      <td>0.0</td>\n",
       "      <td>-0.00</td>\n",
       "    </tr>\n",
       "    <tr>\n",
       "      <th>1</th>\n",
       "      <td>r</td>\n",
       "      <td>$x_{2}$</td>\n",
       "      <td>0.1</td>\n",
       "      <td>-0.14</td>\n",
       "    </tr>\n",
       "    <tr>\n",
       "      <th>2</th>\n",
       "      <td>r</td>\n",
       "      <td>$x_{3}$</td>\n",
       "      <td>0.2</td>\n",
       "      <td>-0.26</td>\n",
       "    </tr>\n",
       "    <tr>\n",
       "      <th>3</th>\n",
       "      <td>r</td>\n",
       "      <td>$x_{4}$</td>\n",
       "      <td>0.3</td>\n",
       "      <td>-0.36</td>\n",
       "    </tr>\n",
       "    <tr>\n",
       "      <th>4</th>\n",
       "      <td>r</td>\n",
       "      <td>$x_{5}$</td>\n",
       "      <td>0.4</td>\n",
       "      <td>-0.44</td>\n",
       "    </tr>\n",
       "    <tr>\n",
       "      <th>5</th>\n",
       "      <td>r</td>\n",
       "      <td>$x_{6}$</td>\n",
       "      <td>0.5</td>\n",
       "      <td>-0.50</td>\n",
       "    </tr>\n",
       "    <tr>\n",
       "      <th>6</th>\n",
       "      <td>r</td>\n",
       "      <td>$x_{7}$</td>\n",
       "      <td>0.6</td>\n",
       "      <td>-0.54</td>\n",
       "    </tr>\n",
       "    <tr>\n",
       "      <th>7</th>\n",
       "      <td>b</td>\n",
       "      <td>$x_{8}$</td>\n",
       "      <td>0.7</td>\n",
       "      <td>-0.56</td>\n",
       "    </tr>\n",
       "    <tr>\n",
       "      <th>8</th>\n",
       "      <td>r</td>\n",
       "      <td>$x_{9}$</td>\n",
       "      <td>0.8</td>\n",
       "      <td>-0.56</td>\n",
       "    </tr>\n",
       "    <tr>\n",
       "      <th>9</th>\n",
       "      <td>b</td>\n",
       "      <td>$x_{10}$</td>\n",
       "      <td>0.9</td>\n",
       "      <td>-0.54</td>\n",
       "    </tr>\n",
       "  </tbody>\n",
       "</table>\n",
       "</div>"
      ],
      "text/plain": [
       "   c       x_i    x  f(x)\n",
       "0  r   $x_{1}$  0.0 -0.00\n",
       "1  r   $x_{2}$  0.1 -0.14\n",
       "2  r   $x_{3}$  0.2 -0.26\n",
       "3  r   $x_{4}$  0.3 -0.36\n",
       "4  r   $x_{5}$  0.4 -0.44\n",
       "5  r   $x_{6}$  0.5 -0.50\n",
       "6  r   $x_{7}$  0.6 -0.54\n",
       "7  b   $x_{8}$  0.7 -0.56\n",
       "8  r   $x_{9}$  0.8 -0.56\n",
       "9  b  $x_{10}$  0.9 -0.54"
      ]
     },
     "execution_count": 23,
     "metadata": {},
     "output_type": "execute_result"
    }
   ],
   "source": [
    "pd.DataFrame(data)"
   ]
  },
  {
   "cell_type": "code",
   "execution_count": 24,
   "id": "f629327f",
   "metadata": {},
   "outputs": [
    {
     "data": {
      "image/png": "[encoded data removed]",
      "text/plain": [
       "<Figure size 640x480 with 1 Axes>"
      ]
     },
     "metadata": {},
     "output_type": "display_data"
    }
   ],
   "source": [
    "plt.scatter(data['x'],data['f(x)'],c = data['c'])\n",
    "plt.show()"
   ]
  },
  {
   "cell_type": "code",
   "execution_count": 25,
   "id": "8e2d92b2",
   "metadata": {},
   "outputs": [
    {
     "data": {
      "text/plain": [
       "(0.7, 0.7999999999999999)"
      ]
     },
     "execution_count": 25,
     "metadata": {},
     "output_type": "execute_result"
    }
   ],
   "source": [
    "intirval_of_min"
   ]
  },
  {
   "cell_type": "markdown",
   "id": "a81e6570",
   "metadata": {},
   "source": [
    "# Dichotomous search method"
   ]
  },
  {
   "cell_type": "code",
   "execution_count": 96,
   "id": "d2fe657e",
   "metadata": {},
   "outputs": [],
   "source": [
    "def D_S_M(f,x_l, x_u , delta, eps = 1e-4, max_iter = 1000):\n",
    "    data = {\n",
    "        'x_l' : [x_l],\n",
    "        'x_u' : [x_u],\n",
    "        'f(x_l)' : [f(x_l)],\n",
    "        'f(x_u)' : [f(x_u)],\n",
    "        'l_l' : [x_u - x_l],\n",
    "        'l_u' : [x_u - x_l],\n",
    "        'iter_l' : [0],\n",
    "        'iter_u' : [0]\n",
    "           }\n",
    "    iter_ = 0\n",
    "    l = x_u - x_l\n",
    "    while l > eps and iter_ < max_iter :\n",
    "        l = x_u - x_l\n",
    "        xc = (x_u + x_l)/2\n",
    "        x1 = xc - delta/2\n",
    "        x2 = xc + delta/2\n",
    "        fx1 = f(x1)\n",
    "        fx2 = f(x2)\n",
    "        if fx1 < fx2 :\n",
    "            x_u = x2\n",
    "            data['x_u'].append(x_u)\n",
    "            data['l_u'].append(x_u - x_l)\n",
    "            data['f(x_u)'].append(fx2)\n",
    "            data['iter_u'].append(iter_+1)\n",
    "        elif fx1 > fx2 :\n",
    "            x_l = x1\n",
    "            data['x_l'].append(x_l)\n",
    "            data['l_l'].append(x_u - x_l)\n",
    "            data['f(x_l)'].append(fx1)\n",
    "            data['iter_l'].append(iter_+1)\n",
    "        else :\n",
    "            x_u = x2\n",
    "            x_l = x1\n",
    "            data['x_u'].append(x_u)\n",
    "            data['f(x_u)'].append(fx2)\n",
    "            data['x_l'].append(x_l)\n",
    "            data['f(x_l)'].append(fx1)\n",
    "            data['l_l'].append(x_u - x_l)\n",
    "            data['l_u'].append(x_u - x_l)\n",
    "            data['iter_l'].append(iter_+1)\n",
    "            data['iter_u'].append(iter_+1)\n",
    "        iter_ = iter_ + 1\n",
    "    return x_l, x_u, data"
   ]
  },
  {
   "cell_type": "code",
   "execution_count": 97,
   "id": "da626647",
   "metadata": {},
   "outputs": [],
   "source": [
    "x_l, x_u, data = D_S_M(f,0.0, 1.0, 0.001, max_iter = 100) "
   ]
  },
  {
   "cell_type": "code",
   "execution_count": 98,
   "id": "3e06bbfb",
   "metadata": {},
   "outputs": [
    {
     "data": {
      "text/plain": [
       "(0.7494999999999964, 0.7504999999999963)"
      ]
     },
     "execution_count": 98,
     "metadata": {},
     "output_type": "execute_result"
    }
   ],
   "source": [
    "x_l, x_u"
   ]
  },
  {
   "cell_type": "code",
   "execution_count": 101,
   "id": "3bd20681",
   "metadata": {},
   "outputs": [],
   "source": [
    "size_l = [2*i + 10 for i in  data['iter_l']]\n",
    "size_u = [i + 10 for i in  data['iter_u']]"
   ]
  },
  {
   "cell_type": "code",
   "execution_count": 102,
   "id": "6348b102",
   "metadata": {},
   "outputs": [
    {
     "data": {
      "image/png": "[encoded data removed]",
      "text/plain": [
       "<Figure size 640x480 with 1 Axes>"
      ]
     },
     "metadata": {},
     "output_type": "display_data"
    }
   ],
   "source": [
    "plt.scatter(data['x_l'],data['f(x_l)'],c= 'r', s = size_l, label = 'f(x_l)')\n",
    "plt.scatter(data['x_u'],data['f(x_u)'],c = 'y',s = size_u, label = 'f(x_u)')\n",
    "plt.scatter(data['x_l'],data['l_l'],s = size_l , label = 'l_l')\n",
    "plt.scatter(data['x_u'],data['l_u'],s = size_u, label = 'l_u')\n",
    "plt.plot(X,Y, label = '$f(x) = x(x-1.5)$')\n",
    "plt.legend()\n",
    "plt.show()"
   ]
  },
  {
   "cell_type": "markdown",
   "id": "73f4c042",
   "metadata": {},
   "source": [
    "#  Interval halving method"
   ]
  },
  {
   "cell_type": "code",
   "execution_count": 42,
   "id": "fb7fe1cf",
   "metadata": {},
   "outputs": [],
   "source": [
    "def I_H_M(f,x_l, x_u, eps = 1e-4, max_iter = 1000):\n",
    "    data = {\n",
    "        'x_l' : [x_l],\n",
    "        'x_u' : [x_u],\n",
    "        'f(x_l)' : [f(x_l)],\n",
    "        'f(x_u)' : [f(x_u)],\n",
    "        'l_l' : [x_u - x_l],\n",
    "        'l_u' : [x_u - x_l],\n",
    "        'iter_l' : [0],\n",
    "        'iter_u' : [0]\n",
    "           }\n",
    "    iter_ = 0\n",
    "    l = x_u - x_l\n",
    "    while l > eps and iter_ < max_iter :\n",
    "        l = x_u - x_l\n",
    "        x0 = (x_u + x_l)/2\n",
    "        x1 = x0 - l/4\n",
    "        x2 = x0 + l/4\n",
    "        fx0 = f(x0)\n",
    "        fx1 = f(x1)\n",
    "        fx2 = f(x2)\n",
    "        if fx1 <fx0 < fx2 :\n",
    "            x_u = x0\n",
    "            data['x_u'].append(x_u)\n",
    "            data['l_u'].append(x_u - x_l)\n",
    "            data['f(x_u)'].append(fx0)\n",
    "            data['iter_u'].append(iter_+1)\n",
    "        elif fx1 > fx0> fx2 :\n",
    "            x_l = x0\n",
    "            data['x_l'].append(x_l)\n",
    "            data['l_l'].append(x_u - x_l)\n",
    "            data['f(x_l)'].append(fx0)\n",
    "            data['iter_l'].append(iter_+1)\n",
    "        elif fx0 < fx1 and fx0 < fx2 :\n",
    "            x_u = x2\n",
    "            x_l = x1\n",
    "            data['x_u'].append(x_u)\n",
    "            data['f(x_u)'].append(fx0)\n",
    "            data['x_l'].append(x_l)\n",
    "            data['f(x_l)'].append(fx0)\n",
    "            data['l_l'].append(x_u - x_l)\n",
    "            data['l_u'].append(x_u - x_l)\n",
    "            data['iter_l'].append(iter_+1)\n",
    "            data['iter_u'].append(iter_+1)            \n",
    "        iter_ = iter_ + 1\n",
    "        \n",
    "    return x_l, x_u, iter_, data"
   ]
  },
  {
   "cell_type": "code",
   "execution_count": 43,
   "id": "975dcb82",
   "metadata": {},
   "outputs": [],
   "source": [
    "x_l, x_u, iter_, data = I_H_M(f,0.0, 1.0, 0.00001, max_iter = 100) "
   ]
  },
  {
   "cell_type": "code",
   "execution_count": 44,
   "id": "10bc0e90",
   "metadata": {},
   "outputs": [
    {
     "data": {
      "text/plain": [
       "(0.7499980926513672, 0.7500019073486328, 18)"
      ]
     },
     "execution_count": 44,
     "metadata": {},
     "output_type": "execute_result"
    }
   ],
   "source": [
    "x_l, x_u, iter_"
   ]
  },
  {
   "cell_type": "code",
   "execution_count": 62,
   "id": "c250ab51",
   "metadata": {},
   "outputs": [],
   "source": [
    "size_l = [2*i + 10 for i in  data['iter_l']]\n",
    "size_u = [2*i + 10 for i in  data['iter_u']]"
   ]
  },
  {
   "cell_type": "code",
   "execution_count": 63,
   "id": "9cc6038f",
   "metadata": {},
   "outputs": [
    {
     "data": {
      "image/png": "[encoded data removed]",
      "text/plain": [
       "<Figure size 640x480 with 1 Axes>"
      ]
     },
     "metadata": {},
     "output_type": "display_data"
    }
   ],
   "source": [
    "plt.scatter(data['x_l'],data['f(x_l)'],s = size_l, label = 'f(x_l)')\n",
    "plt.scatter(data['x_u'],data['f(x_u)'],s = size_u, label = 'f(x_u)')\n",
    "plt.scatter(data['x_l'],data['l_l'],s = size_l , label = 'l_l')\n",
    "plt.scatter(data['x_u'],data['l_u'],s = size_u, label = 'l_u')\n",
    "plt.plot(X,Y, label = '$f(x) = x(x-1.5)$')\n",
    "plt.legend()\n",
    "plt.show()"
   ]
  },
  {
   "cell_type": "markdown",
   "id": "5bafb2cb",
   "metadata": {},
   "source": [
    "#  Fibonacci method"
   ]
  },
  {
   "cell_type": "code",
   "execution_count": 66,
   "id": "1a75196f",
   "metadata": {},
   "outputs": [],
   "source": [
    "def fib(n):\n",
    "    f0 = 1\n",
    "    f1 = 1\n",
    "    f =0\n",
    "    for i in range(2, n+1):\n",
    "        f = f0 + f1\n",
    "        f0 = f1\n",
    "        f1 = f\n",
    "    return f1"
   ]
  },
  {
   "cell_type": "code",
   "execution_count": 76,
   "id": "2592d537",
   "metadata": {},
   "outputs": [],
   "source": [
    "def Fib_M(f, x_l, x_u, n):\n",
    "    data = {\n",
    "        'x_l' : [x_l],\n",
    "        'x_u' : [x_u],\n",
    "        'f(x_l)' : [f(x_l)],\n",
    "        'f(x_u)' : [f(x_u)],\n",
    "        'l_l' : [x_u - x_l],\n",
    "        'l_u' : [x_u - x_l],\n",
    "        'iter_l' : [0],\n",
    "        'iter_u' : [0]\n",
    "           }\n",
    "    iter_ = 0\n",
    "    l = x_u - x_l\n",
    "    x1 = x_l + (fib(n-2)/ fib(n))*l\n",
    "    x2 = x_l + (fib(n-1)/ fib(n))*l\n",
    "    while n>1 :\n",
    "        n = n - 1\n",
    "        f1 = f(x1)\n",
    "        f2 = f(x2)\n",
    "        if f1 < f2 :\n",
    "            x_u = x2\n",
    "            data['x_u'].append(x_u)\n",
    "            data['l_u'].append(x_u - x_l)\n",
    "            data['f(x_u)'].append(f2)\n",
    "            data['iter_u'].append(iter_+1)\n",
    "            l = x_u - x_l\n",
    "            x2 = x1\n",
    "            x1 = x_l + (fib(n-2)/ fib(n))*l\n",
    "            f2 = f1\n",
    "            f1 = f(x1)\n",
    "            \n",
    "        elif f1 > f2 :\n",
    "            x_l = x1\n",
    "            data['x_l'].append(x_l)\n",
    "            data['l_l'].append(x_u - x_l)\n",
    "            data['f(x_l)'].append(f1)\n",
    "            data['iter_l'].append(iter_+1)\n",
    "            l = x_u - x_l\n",
    "            x1 = x2\n",
    "            f1 = f2\n",
    "            x2 = x_l + (fib(n-1)/ fib(n))*l\n",
    "            f2 = f(x2)\n",
    "        iter_ = iter_ + 1\n",
    "    return x_l , x_u , data"
   ]
  },
  {
   "cell_type": "code",
   "execution_count": 77,
   "id": "dfe7929a",
   "metadata": {},
   "outputs": [],
   "source": [
    "x_l , x_u , data = Fib_M(f, .0, 1.0, 70)"
   ]
  },
  {
   "cell_type": "code",
   "execution_count": 78,
   "id": "100df681",
   "metadata": {},
   "outputs": [
    {
     "data": {
      "text/plain": [
       "(0.7499999889761606, 0.7500000074883297)"
      ]
     },
     "execution_count": 78,
     "metadata": {},
     "output_type": "execute_result"
    }
   ],
   "source": [
    "x_l , x_u"
   ]
  },
  {
   "cell_type": "code",
   "execution_count": 81,
   "id": "8f12a827",
   "metadata": {},
   "outputs": [],
   "source": [
    "size_l = [2*i + 10 for i in  data['iter_l']]\n",
    "size_u = [2*i + 10 for i in  data['iter_u']]"
   ]
  },
  {
   "cell_type": "code",
   "execution_count": 88,
   "id": "8f4e8de7",
   "metadata": {},
   "outputs": [
    {
     "data": {
      "image/png": "[encoded data removed]",
      "text/plain": [
       "<Figure size 640x480 with 1 Axes>"
      ]
     },
     "metadata": {},
     "output_type": "display_data"
    }
   ],
   "source": [
    "plt.scatter(data['x_l'],data['f(x_l)'],c= 'r', s = size_l, label = 'f(x_l)')\n",
    "plt.scatter(data['x_u'],data['f(x_u)'],c = 'y',s = size_u, label = 'f(x_u)')\n",
    "plt.scatter(data['x_l'],data['l_l'],s = size_l , label = 'l_l')\n",
    "plt.scatter(data['x_u'],data['l_u'],s = size_u, label = 'l_u')\n",
    "plt.plot(X,Y, label = '$f(x) = x(x-1.5)$')\n",
    "plt.legend()\n",
    "plt.show()"
   ]
  },
  {
   "cell_type": "markdown",
   "id": "2e748db5",
   "metadata": {},
   "source": [
    "# Golden section method"
   ]
  },
  {
   "cell_type": "code",
   "execution_count": 89,
   "id": "018aecc0",
   "metadata": {},
   "outputs": [],
   "source": [
    "def golden_Section(f, x_l, x_u, eps):\n",
    "    \"\"\"\n",
    "    parameter :\n",
    "            x_l = lower bound\n",
    "            x_u = Upper bound\n",
    "            eps = \n",
    "            f = Objective Function\n",
    "    return :\n",
    "            x_l = Lower bound given by Fibonacci method\n",
    "            x_u = Upper bound given by Fibonacci method\n",
    "            l = long of the interval of uncertainty before Termination\n",
    "    \"\"\"\n",
    "    data = {\n",
    "        'x_l' : [x_l],\n",
    "        'x_u' : [x_u],\n",
    "        'f(x_l)' : [f(x_l)],\n",
    "        'f(x_u)' : [f(x_u)],\n",
    "        'l_l' : [x_u - x_l],\n",
    "        'l_u' : [x_u - x_l],\n",
    "        'iter_l' : [0],\n",
    "        'iter_u' : [0]\n",
    "           }\n",
    "    iter_ = 0\n",
    "    phi = 2/( 1 + math.sqrt(5) ) \n",
    "    l = x_u - x_l\n",
    "    x1 = x_l + (phi**2)*l\n",
    "    x2 = x_l + phi*l\n",
    "    f1 = f(x1)\n",
    "    f2 = f(x2)\n",
    "    while l > eps :\n",
    "        if f1 < f2 :\n",
    "            x_u = x2\n",
    "            data['x_u'].append(x_u)\n",
    "            data['l_u'].append(x_u - x_l)\n",
    "            data['f(x_u)'].append(f2)\n",
    "            data['iter_u'].append(iter_+1)\n",
    "            l = x_u - x_l\n",
    "            x2 = x1\n",
    "            x1 = x_l + (phi**2)*l\n",
    "            f2 = f1\n",
    "            f1 = f(x1)\n",
    "        elif f1 > f2 :\n",
    "            x_l = x1\n",
    "            data['x_l'].append(x_l)\n",
    "            data['l_l'].append(x_u - x_l)\n",
    "            data['f(x_l)'].append(f1)\n",
    "            data['iter_l'].append(iter_+1)\n",
    "            l = x_u - x_l\n",
    "            x1 = x2\n",
    "            f1 = f2\n",
    "            x2 = x_l + phi*l\n",
    "            f2 = f(x2)\n",
    "    return x_l , x_u , data"
   ]
  },
  {
   "cell_type": "code",
   "execution_count": 90,
   "id": "3f736fdd",
   "metadata": {},
   "outputs": [],
   "source": [
    "x_l , x_u , data = golden_Section(f, .0, 1.4, 1e-6)"
   ]
  },
  {
   "cell_type": "code",
   "execution_count": 91,
   "id": "edcee4dd",
   "metadata": {},
   "outputs": [
    {
     "data": {
      "text/plain": [
       "(0.749999729757084, 0.7500004822437838)"
      ]
     },
     "execution_count": 91,
     "metadata": {},
     "output_type": "execute_result"
    }
   ],
   "source": [
    "x_l , x_u "
   ]
  },
  {
   "cell_type": "code",
   "execution_count": 92,
   "id": "ecbaa898",
   "metadata": {},
   "outputs": [],
   "source": [
    "size_l = [2*i + 10 for i in  data['iter_l']]\n",
    "size_u = [2*i + 10 for i in  data['iter_u']]"
   ]
  },
  {
   "cell_type": "code",
   "execution_count": 93,
   "id": "fcf7f257",
   "metadata": {},
   "outputs": [
    {
     "data": {
      "image/png": "[encoded data removed]",
      "text/plain": [
       "<Figure size 640x480 with 1 Axes>"
      ]
     },
     "metadata": {},
     "output_type": "display_data"
    }
   ],
   "source": [
    "plt.scatter(data['x_l'],data['f(x_l)'],c= 'r', s = size_l, label = 'f(x_l)')\n",
    "plt.scatter(data['x_u'],data['f(x_u)'],c = 'y',s = size_u, label = 'f(x_u)')\n",
    "plt.scatter(data['x_l'],data['l_l'],s = size_l , label = 'l_l')\n",
    "plt.scatter(data['x_u'],data['l_u'],s = size_u, label = 'l_u')\n",
    "plt.plot(X,Y, label = '$f(x) = x(x-1.5)$')\n",
    "plt.legend()\n",
    "plt.show()"
   ]
  },
  {
   "cell_type": "code",
   "execution_count": null,
   "id": "2f2a8614",
   "metadata": {},
   "outputs": [],
   "source": []
  }
 ],
 "metadata": {
  "kernelspec": {
   "display_name": "Python 3 (ipykernel)",
   "language": "python",
   "name": "python3"
  },
  "language_info": {
   "codemirror_mode": {
    "name": "ipython",
    "version": 3
   },
   "file_extension": ".py",
   "mimetype": "text/x-python",
   "name": "python",
   "nbconvert_exporter": "python",
   "pygments_lexer": "ipython3",
   "version": "3.9.13"
  }
 },
 "nbformat": 4,
 "nbformat_minor": 5
}
