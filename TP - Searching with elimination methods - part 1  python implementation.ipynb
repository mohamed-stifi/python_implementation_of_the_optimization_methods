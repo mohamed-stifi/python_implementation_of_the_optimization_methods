{
 "cells": [
  {
   "cell_type": "code",
   "execution_count": 1,
   "id": "acd5bf0e",
   "metadata": {},
   "outputs": [],
   "source": [
    "import math\n",
    "import time\n",
    "import numpy as np\n",
    "import matplotlib.pyplot as plt\n",
    "%matplotlib inline"
   ]
  },
  {
   "cell_type": "code",
   "execution_count": 2,
   "id": "a9ec6cd2",
   "metadata": {},
   "outputs": [],
   "source": [
    "def f(x):\n",
    "    return x*(x-1.5)"
   ]
  },
  {
   "cell_type": "markdown",
   "id": "e29844f5",
   "metadata": {},
   "source": [
    "# python implementation of the following optimization methods"
   ]
  },
  {
   "cell_type": "markdown",
   "id": "0b5920c1",
   "metadata": {},
   "source": [
    "## Unrestrıcted search method with fixed step size"
   ]
  },
  {
   "cell_type": "code",
   "execution_count": 3,
   "id": "4363d0d5",
   "metadata": {},
   "outputs": [],
   "source": [
    "def search_with_fixe_step(f, x_init = 0 ,step = 0.05):\n",
    "    \"\"\"\n",
    "    parameter :\n",
    "            x_init = initial value of x\n",
    "            step = step size (x_i - x_{i-1})\n",
    "            fun = Objective Function\n",
    "    return :\n",
    "            interval of uncertainty before Termination of Unrestrıcted search method with fixed step size\n",
    "    \"\"\"\n",
    "    f1 = f(x_init)\n",
    "    f2 = f(x_init+step)\n",
    "    if f2 < f1 :\n",
    "        x_init = x_init + step\n",
    "        while True :\n",
    "            f1 = f2\n",
    "            f2 = f(x_init+step)\n",
    "            if f2 < f1 :\n",
    "                x_init = x_init + step\n",
    "            else :\n",
    "                return (x_init - step, x_init+ step)\n",
    "    elif f1 < f2 :\n",
    "        x_init = x_init - step\n",
    "        while True :\n",
    "            f1 = f(x_init)\n",
    "            f2 = f(x_init-step)\n",
    "            if f1 > f2 :\n",
    "                x_init = x_init - step\n",
    "            else :\n",
    "                return ( x_init - step, x_init + step)\n",
    "    else :\n",
    "        return (x_init - step,x_init + step)\n",
    "    "
   ]
  },
  {
   "cell_type": "markdown",
   "id": "575c9c16",
   "metadata": {},
   "source": [
    "## Unrestrıcted search method with accelerated step size"
   ]
  },
  {
   "cell_type": "code",
   "execution_count": 4,
   "id": "eb91983f",
   "metadata": {},
   "outputs": [],
   "source": [
    "def search_with_accelerat_step(f, x_init = 0, step = 0.001):\n",
    "    \"\"\"\n",
    "    parameter :\n",
    "            x_init = initial value of x\n",
    "            step = step size (x_i - x_{i-1})\n",
    "            fun = Objective Function\n",
    "    return :\n",
    "            interval of uncertainty before Termination of Unrestrıcted search method with fixed step size\n",
    "    \"\"\"\n",
    "    f1 = f(x_init)\n",
    "    f2 = f(x_init+step)\n",
    "    if f2 < f1 :\n",
    "        x_init = x_init + step\n",
    "        while True :\n",
    "            f1 = f2\n",
    "            f2 = f(x_init+step)\n",
    "            if f2 < f1 :\n",
    "                x_init = x_init + step\n",
    "                step = 2*step\n",
    "            else :\n",
    "                return (x_init - step/2 , x_init + step)\n",
    "    elif f1 < f2 :\n",
    "        x_init = x_init - step\n",
    "        while True :\n",
    "            f1 = f(x_init)\n",
    "            f2 = f(x_init-step)\n",
    "            if f1 > f2:\n",
    "                x_init = x_init - step\n",
    "                step = 2*step\n",
    "            else :\n",
    "                return ( x_init-step, x_init + step/2)\n",
    "    else :\n",
    "        return (x_init - step,x_init + step)"
   ]
  },
  {
   "cell_type": "markdown",
   "id": "f1ddec72",
   "metadata": {},
   "source": [
    "##  Exhaustive search method"
   ]
  },
  {
   "cell_type": "code",
   "execution_count": 5,
   "id": "3b691655",
   "metadata": {},
   "outputs": [],
   "source": [
    "def exhaustive_Search(fun, a, b, n):\n",
    "    \"\"\"\n",
    "    parameter :\n",
    "            a = lower bound\n",
    "            b = Upper bound\n",
    "            n = Number of Intermediate Points\n",
    "            fun = Objective Function\n",
    "    return :\n",
    "            x1 = Lower bound given by Exhaustive Search Method\n",
    "            x2 = Upper bound given by Exhaustive Search Method\n",
    "            iter_ = Number of Iterations before Termination\n",
    "    \"\"\"\n",
    "    delta = (b-a)/n\n",
    "    x1 = a\n",
    "    x2 = x1 + delta\n",
    "    x3 = x2 + delta\n",
    "    fx1 = fun(x1)\n",
    "    fx2 = fun(x2)\n",
    "    fx3 = fun(x3)\n",
    "    iter_ = 0\n",
    "    while fx1>=fx2 and  fx2>=fx3 :\n",
    "        x1 = x2\n",
    "        x2 = x3\n",
    "        x3 = x3 + delta\n",
    "        fx1 = fx2\n",
    "        fx2 = fx3\n",
    "        fx3 = fun(x3)\n",
    "        iter_ = iter_ + 1 \n",
    "    return x1, x2, iter_"
   ]
  },
  {
   "cell_type": "markdown",
   "id": "0a6a4a4a",
   "metadata": {},
   "source": [
    "## Dichotomous search method"
   ]
  },
  {
   "cell_type": "code",
   "execution_count": 6,
   "id": "18d166fc",
   "metadata": {},
   "outputs": [],
   "source": [
    "def dichotomous_Search(f,x_l, x_u , delta, eps = 1e-4, max_iter = 1000):\n",
    "    \"\"\"\n",
    "    parameter :\n",
    "            x_l = lower bound\n",
    "            x_u = Upper bound\n",
    "            dleta = small positive number\n",
    "            eps = final long of the interval of uncertainty\n",
    "            max_iter = max Number of Iterations\n",
    "            f = Objective Function\n",
    "    return :\n",
    "            x_l = Lower bound given by Dichotomous search method\n",
    "            x_u = Upper bound given by Dichotomous search method\n",
    "            iter_ = Number of Iterations before Termination\n",
    "            l = long of the interval of uncertainty before Termination\n",
    "    \"\"\"\n",
    "    iter_ = 0\n",
    "    l = x_u - x_l\n",
    "    while l > eps and iter_ < max_iter :\n",
    "        l = x_u - x_l\n",
    "        xc = (x_u + x_l)/2\n",
    "        x1 = xc - delta/2\n",
    "        x2 = xc + delta/2\n",
    "        fx1 = f(x1)\n",
    "        fx2 = f(x2)\n",
    "        if fx1 < fx2 :\n",
    "            x_u = x2\n",
    "        elif fx1 > fx2 :\n",
    "            x_l = x1\n",
    "        else :\n",
    "            x_u = x2\n",
    "            x_l = x1\n",
    "        iter_ = iter_ + 1\n",
    "    return x_l, x_u, iter_, l"
   ]
  },
  {
   "cell_type": "markdown",
   "id": "ec8c0aff",
   "metadata": {},
   "source": [
    "##  Interval halving method"
   ]
  },
  {
   "cell_type": "code",
   "execution_count": 7,
   "id": "0d770e3a",
   "metadata": {},
   "outputs": [],
   "source": [
    "def interval_Halving(f,x_l, x_u, eps = 1e-4, max_iter = 1000):\n",
    "    \"\"\"\n",
    "    parameter :\n",
    "            x_l = lower bound\n",
    "            x_u = Upper bound\n",
    "            eps = final long of the interval of uncertainty\n",
    "            max_iter = max Number of Iterations\n",
    "            f = Objective Function\n",
    "    return :\n",
    "            x_l = Lower bound given by Dichotomous search method\n",
    "            x_u = Upper bound given by Dichotomous search method\n",
    "            iter_ = Number of Iterations before Termination\n",
    "            l = long of the interval of uncertainty before Termination\n",
    "    \"\"\"\n",
    "    iter_ = 0\n",
    "    l = x_u - x_l\n",
    "    while l > eps and iter_ < max_iter :\n",
    "        l = x_u - x_l\n",
    "        x0 = (x_u + x_l)/2\n",
    "        x1 = x0 - l/4\n",
    "        x2 = x0 + l/4\n",
    "        fx0 = f(x0)\n",
    "        fx1 = f(x1)\n",
    "        fx2 = f(x2)\n",
    "        if fx1 <fx0 < fx2 :\n",
    "            x_u = x0\n",
    "        elif fx1 > fx0> fx2 :\n",
    "            x_l = x0\n",
    "        elif fx0 < fx1 and fx0 < fx2 :\n",
    "            x_u = x2\n",
    "            x_l = x1\n",
    "        iter_ = iter_ + 1\n",
    "    return x_l, x_u, iter_, l"
   ]
  },
  {
   "cell_type": "markdown",
   "id": "5e8c1cc8",
   "metadata": {},
   "source": [
    "##  Fibonacci method"
   ]
  },
  {
   "cell_type": "code",
   "execution_count": 8,
   "id": "a7676f51",
   "metadata": {},
   "outputs": [],
   "source": [
    "def fib(n):\n",
    "    f0 = 1\n",
    "    f1 = 1\n",
    "    f =0\n",
    "    for i in range(2, n+1):\n",
    "        f = f0 + f1\n",
    "        f0 = f1\n",
    "        f1 = f\n",
    "    return f1"
   ]
  },
  {
   "cell_type": "code",
   "execution_count": 9,
   "id": "d5e78ea1",
   "metadata": {},
   "outputs": [],
   "source": [
    "def Fibonacci(f, x_l, x_u, n):\n",
    "    \"\"\"\n",
    "    parameter :\n",
    "            x_l = lower bound\n",
    "            x_u = Upper bound\n",
    "            n = \n",
    "            f = Objective Function\n",
    "    return :\n",
    "            x_l = Lower bound given by Fibonacci method\n",
    "            x_u = Upper bound given by Fibonacci method\n",
    "            l = long of the interval of uncertainty before Termination\n",
    "    \"\"\"\n",
    "    l = x_u - x_l\n",
    "    x1 = x_l + (fib(n-2)/ fib(n))*l\n",
    "    x2 = x_l + (fib(n-1)/ fib(n))*l\n",
    "    while n>1 :\n",
    "        n = n - 1\n",
    "        f1 = f(x1)\n",
    "        f2 = f(x2)\n",
    "        if f1 < f2 :\n",
    "            x_u = x2\n",
    "            l = x_u - x_l\n",
    "            x2 = x1\n",
    "            x1 = x_l + (fib(n-2)/ fib(n))*l\n",
    "            f2 = f1\n",
    "            f1 = f(x1)\n",
    "        elif f1 > f2 :\n",
    "            x_l = x1\n",
    "            l = x_u - x_l\n",
    "            x1 = x2\n",
    "            f1 = f2\n",
    "            x2 = x_l + (fib(n-1)/ fib(n))*l\n",
    "            f2 = f(x2)\n",
    "    return x_l , x_u , l"
   ]
  },
  {
   "cell_type": "markdown",
   "id": "f3bb208e",
   "metadata": {},
   "source": [
    "## Golden section method"
   ]
  },
  {
   "cell_type": "code",
   "execution_count": 10,
   "id": "6f9b314c",
   "metadata": {},
   "outputs": [],
   "source": [
    "def golden_Section(f, x_l, x_u, eps):\n",
    "    \"\"\"\n",
    "    parameter :\n",
    "            x_l = lower bound\n",
    "            x_u = Upper bound\n",
    "            eps = \n",
    "            f = Objective Function\n",
    "    return :\n",
    "            x_l = Lower bound given by Fibonacci method\n",
    "            x_u = Upper bound given by Fibonacci method\n",
    "            l = long of the interval of uncertainty before Termination\n",
    "    \"\"\"\n",
    "    phi = 2/( 1 + math.sqrt(5) ) \n",
    "    l = x_u - x_l\n",
    "    x1 = x_l + (phi**2)*l\n",
    "    x2 = x_l + phi*l\n",
    "    f1 = f(x1)\n",
    "    f2 = f(x2)\n",
    "    while l > eps :\n",
    "        if f1 < f2 :\n",
    "            x_u = x2\n",
    "            l = x_u - x_l\n",
    "            x2 = x1\n",
    "            x1 = x_l + (phi**2)*l\n",
    "            f2 = f1\n",
    "            f1 = f(x1)\n",
    "        elif f1 > f2 :\n",
    "            x_l = x1\n",
    "            l = x_u - x_l\n",
    "            x1 = x2\n",
    "            f1 = f2\n",
    "            x2 = x_l + phi*l\n",
    "            f2 = f(x2)\n",
    "    return x_l , x_u , l"
   ]
  },
  {
   "cell_type": "markdown",
   "id": "88d64d5f",
   "metadata": {},
   "source": [
    "# compute the running time for each method"
   ]
  },
  {
   "cell_type": "code",
   "execution_count": 11,
   "id": "a496722e",
   "metadata": {},
   "outputs": [],
   "source": [
    "methods_name = [\n",
    "    'Unrestrıcted search method with fixed step size',\n",
    "    'Unrestrıcted search method with accelerated step size',\n",
    "    'Exhaustive search method',\n",
    "    'Dichotomous search method',\n",
    "    'Interval halving method',\n",
    "    'Fibonacci method',\n",
    "    'Golden section method'\n",
    "]\n",
    "time_of_methods = []"
   ]
  },
  {
   "cell_type": "code",
   "execution_count": 12,
   "id": "5f8b102c",
   "metadata": {},
   "outputs": [
    {
     "name": "stdout",
     "output_type": "stream",
     "text": [
      "0.008139610290527344\n"
     ]
    }
   ],
   "source": [
    "t1 = time.time()\n",
    "search_with_fixe_step(f, x_init = 0 ,step = 0.00005)\n",
    "t2 = time.time()\n",
    "print(t2-t1)\n",
    "time_of_methods.append(t2-t1)"
   ]
  },
  {
   "cell_type": "code",
   "execution_count": 13,
   "id": "80ef6846",
   "metadata": {},
   "outputs": [
    {
     "name": "stdout",
     "output_type": "stream",
     "text": [
      "0.0010001659393310547\n"
     ]
    }
   ],
   "source": [
    "t1 = time.time()\n",
    "search_with_accelerat_step(f, x_init = 0, step = 0.00005)\n",
    "t2 = time.time()\n",
    "print(t2-t1)\n",
    "time_of_methods.append(t2-t1)"
   ]
  },
  {
   "cell_type": "code",
   "execution_count": 14,
   "id": "d3252d03",
   "metadata": {},
   "outputs": [
    {
     "name": "stdout",
     "output_type": "stream",
     "text": [
      "0.0055294036865234375\n"
     ]
    }
   ],
   "source": [
    "t1 = time.time()\n",
    "exhaustive_Search(f, 0.0, 1.0, 10000)\n",
    "t2 = time.time()\n",
    "print(t2-t1)\n",
    "time_of_methods.append(t2-t1)"
   ]
  },
  {
   "cell_type": "code",
   "execution_count": 15,
   "id": "49dcac2c",
   "metadata": {},
   "outputs": [
    {
     "name": "stdout",
     "output_type": "stream",
     "text": [
      "0.009972333908081055\n"
     ]
    }
   ],
   "source": [
    "t1 = time.time()\n",
    "dichotomous_Search(f,0.0, 1.0 , 0.01, eps = 1e-9, max_iter = 10000)\n",
    "t2 = time.time()\n",
    "print(t2-t1)\n",
    "time_of_methods.append(t2-t1)"
   ]
  },
  {
   "cell_type": "code",
   "execution_count": 16,
   "id": "fc9e2907",
   "metadata": {},
   "outputs": [
    {
     "name": "stdout",
     "output_type": "stream",
     "text": [
      "0.024933576583862305\n"
     ]
    }
   ],
   "source": [
    "t1 = time.time()\n",
    "interval_Halving(f,0.0, 1.0 , eps = 1e-9, max_iter = 10000)\n",
    "t2 = time.time()\n",
    "print(t2-t1)\n",
    "time_of_methods.append(t2-t1)"
   ]
  },
  {
   "cell_type": "code",
   "execution_count": 17,
   "id": "e2303847",
   "metadata": {},
   "outputs": [
    {
     "name": "stdout",
     "output_type": "stream",
     "text": [
      "0.0\n"
     ]
    }
   ],
   "source": [
    "t1 = time.time()\n",
    "Fibonacci(f, 0.0, 1.0, 50)\n",
    "t2 = time.time()\n",
    "print(t2-t1)\n",
    "time_of_methods.append(t2-t1)"
   ]
  },
  {
   "cell_type": "code",
   "execution_count": 18,
   "id": "fe636d6d",
   "metadata": {},
   "outputs": [
    {
     "name": "stdout",
     "output_type": "stream",
     "text": [
      "0.000995635986328125\n"
     ]
    }
   ],
   "source": [
    "t1 = time.time()\n",
    "golden_Section(f, x_l= 0.0, x_u = 1.0, eps = 1e-5)\n",
    "t2 = time.time()\n",
    "print(t2-t1)\n",
    "time_of_methods.append(t2-t1)"
   ]
  },
  {
   "cell_type": "code",
   "execution_count": 19,
   "id": "26582a7a",
   "metadata": {},
   "outputs": [
    {
     "data": {
      "text/plain": [
       "[0.008139610290527344,\n",
       " 0.0010001659393310547,\n",
       " 0.0055294036865234375,\n",
       " 0.009972333908081055,\n",
       " 0.024933576583862305,\n",
       " 0.0,\n",
       " 0.000995635986328125]"
      ]
     },
     "execution_count": 19,
     "metadata": {},
     "output_type": "execute_result"
    }
   ],
   "source": [
    "time_of_methods"
   ]
  },
  {
   "cell_type": "code",
   "execution_count": 23,
   "id": "1dd59ab0",
   "metadata": {},
   "outputs": [
    {
     "data": {
      "image/png": "[encoded data removed]",
      "text/plain": [
       "<Figure size 640x480 with 1 Axes>"
      ]
     },
     "metadata": {},
     "output_type": "display_data"
    }
   ],
   "source": [
    "fig, ax = plt.subplots()\n",
    "y = np.arange(len(methods_name))\n",
    "ax.barh(y ,time_of_methods, align='center')\n",
    "ax.set_yticks(y, labels=methods_name)\n",
    "ax.invert_yaxis()  # labels read top-to-bottom\n",
    "ax.set_xlabel('running time')\n",
    "ax.set_title('the running time for each method')\n",
    "\n",
    "plt.show()"
   ]
  },
  {
   "cell_type": "code",
   "execution_count": null,
   "id": "d5f3f282",
   "metadata": {},
   "outputs": [],
   "source": []
  }
 ],
 "metadata": {
  "kernelspec": {
   "display_name": "Python 3 (ipykernel)",
   "language": "python",
   "name": "python3"
  },
  "language_info": {
   "codemirror_mode": {
    "name": "ipython",
    "version": 3
   },
   "file_extension": ".py",
   "mimetype": "text/x-python",
   "name": "python",
   "nbconvert_exporter": "python",
   "pygments_lexer": "ipython3",
   "version": "3.9.13"
  }
 },
 "nbformat": 4,
 "nbformat_minor": 5
}
